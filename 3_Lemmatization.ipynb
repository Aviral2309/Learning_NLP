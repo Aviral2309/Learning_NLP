{
 "cells": [
  {
   "cell_type": "markdown",
   "id": "6457b58d",
   "metadata": {},
   "source": [
    "### Wordnet Lemmatizer\n",
    "\n",
    "lemmatization technique is like stemming. The output we will get after lemmatization is called 'lemma', which is a root word rather than root stem, the output of stemming. After lemmatization, we will be getting a valid word that means the same thing.\n",
    "\n",
    "NLTK provides WordNetLemmatizer class which is a thin wrapper around the wordnet corpus. Thus class uses morphy() function to the wordnet corpus Reader class to find a lemma. Let us understand it with an example - \n",
    "\n",
    "Q&A, chatbots, text summarisation, etc\n"
   ]
  },
  {
   "cell_type": "code",
   "execution_count": 15,
   "id": "5e95ece4",
   "metadata": {},
   "outputs": [],
   "source": [
    "from nltk.stem import WordNetLemmatizer"
   ]
  },
  {
   "cell_type": "code",
   "execution_count": 16,
   "id": "9a62daa8",
   "metadata": {},
   "outputs": [],
   "source": [
    "lemmatizer = WordNetLemmatizer()"
   ]
  },
  {
   "cell_type": "code",
   "execution_count": 17,
   "id": "5fdc0d71",
   "metadata": {},
   "outputs": [
    {
     "name": "stderr",
     "output_type": "stream",
     "text": [
      "[nltk_data] Downloading package wordnet to\n",
      "[nltk_data]     C:\\Users\\avira\\AppData\\Roaming\\nltk_data...\n",
      "[nltk_data]   Package wordnet is already up-to-date!\n",
      "[nltk_data] Downloading package omw-1.4 to\n",
      "[nltk_data]     C:\\Users\\avira\\AppData\\Roaming\\nltk_data...\n",
      "[nltk_data]   Package omw-1.4 is already up-to-date!\n"
     ]
    },
    {
     "data": {
      "text/plain": [
       "True"
      ]
     },
     "execution_count": 17,
     "metadata": {},
     "output_type": "execute_result"
    }
   ],
   "source": [
    "import nltk\n",
    "nltk.download('wordnet')\n",
    "nltk.download('omw-1.4')  # Recommended for multilingual WordNet support\n"
   ]
  },
  {
   "cell_type": "code",
   "execution_count": 18,
   "id": "f48ecf03",
   "metadata": {},
   "outputs": [
    {
     "data": {
      "text/plain": [
       "'going'"
      ]
     },
     "execution_count": 18,
     "metadata": {},
     "output_type": "execute_result"
    }
   ],
   "source": [
    "'''\n",
    "POS - Noun n\n",
    "Verb - v\n",
    "adjective - a\n",
    "adverb - a\n",
    "'''\n",
    "\n",
    "lemmatizer.lemmatize(\"going\", pos = 'n')"
   ]
  },
  {
   "cell_type": "code",
   "execution_count": 19,
   "id": "347e3caa",
   "metadata": {},
   "outputs": [],
   "source": [
    "words = ['eating','eats','eaten','writing', 'writes','programming', 'programs', 'history', 'finally', 'final']"
   ]
  },
  {
   "cell_type": "code",
   "execution_count": 20,
   "id": "1c3576e4",
   "metadata": {},
   "outputs": [
    {
     "name": "stdout",
     "output_type": "stream",
     "text": [
      "eating---->eating\n",
      "eats---->eats\n",
      "eaten---->eaten\n",
      "writing---->writing\n",
      "writes---->writes\n",
      "programming---->programming\n",
      "programs---->program\n",
      "history---->history\n",
      "finally---->finally\n",
      "final---->final\n"
     ]
    }
   ],
   "source": [
    "for word in words :\n",
    "  print(word+\"---->\"+lemmatizer.lemmatize(word)) ## by default it is noun"
   ]
  },
  {
   "cell_type": "code",
   "execution_count": 21,
   "id": "c2187382",
   "metadata": {},
   "outputs": [
    {
     "data": {
      "text/plain": [
       "'go'"
      ]
     },
     "execution_count": 21,
     "metadata": {},
     "output_type": "execute_result"
    }
   ],
   "source": [
    "lemmatizer.lemmatize('goes', pos='v')"
   ]
  },
  {
   "cell_type": "code",
   "execution_count": 22,
   "id": "cbf85981",
   "metadata": {},
   "outputs": [
    {
     "data": {
      "text/plain": [
       "'fairly'"
      ]
     },
     "execution_count": 22,
     "metadata": {},
     "output_type": "execute_result"
    }
   ],
   "source": [
    "lemmatizer.lemmatize('fairly')"
   ]
  },
  {
   "cell_type": "code",
   "execution_count": 23,
   "id": "a64c4099",
   "metadata": {},
   "outputs": [
    {
     "data": {
      "text/plain": [
       "'sportaingly'"
      ]
     },
     "execution_count": 23,
     "metadata": {},
     "output_type": "execute_result"
    }
   ],
   "source": [
    "lemmatizer.lemmatize('sportaingly')"
   ]
  },
  {
   "cell_type": "code",
   "execution_count": 24,
   "id": "a4254fb1",
   "metadata": {},
   "outputs": [],
   "source": [
    "## lemmatisation is going to take time as compared to stemming"
   ]
  }
 ],
 "metadata": {
  "kernelspec": {
   "display_name": "base",
   "language": "python",
   "name": "python3"
  },
  "language_info": {
   "codemirror_mode": {
    "name": "ipython",
    "version": 3
   },
   "file_extension": ".py",
   "mimetype": "text/x-python",
   "name": "python",
   "nbconvert_exporter": "python",
   "pygments_lexer": "ipython3",
   "version": "3.12.4"
  }
 },
 "nbformat": 4,
 "nbformat_minor": 5
}
