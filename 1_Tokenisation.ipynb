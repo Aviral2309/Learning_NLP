{
 "cells": [
  {
   "cell_type": "code",
   "execution_count": 30,
   "id": "54116843",
   "metadata": {},
   "outputs": [
    {
     "name": "stdout",
     "output_type": "stream",
     "text": [
      "['My name is Aviral Mittal and learning ML, DL and NLP.', 'I am a student!', 'and want to do great in AI/ML.']\n"
     ]
    },
    {
     "name": "stderr",
     "output_type": "stream",
     "text": [
      "[nltk_data] Downloading package punkt to\n",
      "[nltk_data]     C:\\Users\\avira\\AppData\\Roaming\\nltk_data...\n",
      "[nltk_data]   Package punkt is already up-to-date!\n"
     ]
    }
   ],
   "source": [
    "import nltk\n",
    "from nltk.tokenize import sent_tokenize\n",
    "\n",
    "nltk.download(\"punkt\")\n",
    "\n",
    "corpus = \"My name is Aviral Mittal and learning ML, DL and NLP. I am a student! and want to do great in AI/ML.\"\n",
    "print(sent_tokenize(corpus)) ## tokenise\n"
   ]
  },
  {
   "cell_type": "code",
   "execution_count": 31,
   "id": "e98f9e31",
   "metadata": {},
   "outputs": [],
   "source": [
    "documents = sent_tokenize(corpus)"
   ]
  },
  {
   "cell_type": "code",
   "execution_count": 32,
   "id": "f77f3f1f",
   "metadata": {},
   "outputs": [
    {
     "data": {
      "text/plain": [
       "list"
      ]
     },
     "execution_count": 32,
     "metadata": {},
     "output_type": "execute_result"
    }
   ],
   "source": [
    "type(documents)"
   ]
  },
  {
   "cell_type": "code",
   "execution_count": 33,
   "id": "865a94e6",
   "metadata": {},
   "outputs": [
    {
     "name": "stdout",
     "output_type": "stream",
     "text": [
      "My name is Aviral Mittal and learning ML, DL and NLP.\n",
      "I am a student!\n",
      "and want to do great in AI/ML.\n"
     ]
    }
   ],
   "source": [
    "for sentences in documents:\n",
    "  print(sentences)"
   ]
  },
  {
   "cell_type": "code",
   "execution_count": 34,
   "id": "4caa2787",
   "metadata": {},
   "outputs": [],
   "source": [
    "## Tokenisation\n",
    "## Paragraph --> Sentences --> words"
   ]
  },
  {
   "cell_type": "code",
   "execution_count": null,
   "id": "21bf0345",
   "metadata": {},
   "outputs": [
    {
     "data": {
      "text/plain": [
       "['My',\n",
       " 'name',\n",
       " 'is',\n",
       " 'Aviral',\n",
       " 'Mittal',\n",
       " 'and',\n",
       " 'learning',\n",
       " 'ML',\n",
       " ',',\n",
       " 'DL',\n",
       " 'and',\n",
       " 'NLP',\n",
       " '.',\n",
       " 'I',\n",
       " 'am',\n",
       " 'a',\n",
       " 'student',\n",
       " '!',\n",
       " 'and',\n",
       " 'want',\n",
       " 'to',\n",
       " 'do',\n",
       " 'great',\n",
       " 'in',\n",
       " 'AI/ML',\n",
       " '.']"
      ]
     },
     "execution_count": 35,
     "metadata": {},
     "output_type": "execute_result"
    }
   ],
   "source": [
    "from nltk.tokenize import word_tokenize\n",
    "\n",
    "word_tokenize(corpus)  # para to word"
   ]
  },
  {
   "cell_type": "code",
   "execution_count": 36,
   "id": "041909a2",
   "metadata": {},
   "outputs": [
    {
     "name": "stdout",
     "output_type": "stream",
     "text": [
      "['My', 'name', 'is', 'Aviral', 'Mittal', 'and', 'learning', 'ML', ',', 'DL', 'and', 'NLP', '.']\n",
      "['I', 'am', 'a', 'student', '!']\n",
      "['and', 'want', 'to', 'do', 'great', 'in', 'AI/ML', '.']\n"
     ]
    }
   ],
   "source": [
    "for sentences in documents:\n",
    "  print(word_tokenize(sentences))"
   ]
  },
  {
   "cell_type": "code",
   "execution_count": 37,
   "id": "df9d7de0",
   "metadata": {},
   "outputs": [],
   "source": [
    "from nltk.tokenize import wordpunct_tokenize"
   ]
  },
  {
   "cell_type": "code",
   "execution_count": 38,
   "id": "a02c37f4",
   "metadata": {},
   "outputs": [
    {
     "data": {
      "text/plain": [
       "['My',\n",
       " 'name',\n",
       " 'is',\n",
       " 'Aviral',\n",
       " 'Mittal',\n",
       " 'and',\n",
       " 'learning',\n",
       " 'ML',\n",
       " ',',\n",
       " 'DL',\n",
       " 'and',\n",
       " 'NLP',\n",
       " '.',\n",
       " 'I',\n",
       " 'am',\n",
       " 'a',\n",
       " 'student',\n",
       " '!',\n",
       " 'and',\n",
       " 'want',\n",
       " 'to',\n",
       " 'do',\n",
       " 'great',\n",
       " 'in',\n",
       " 'AI',\n",
       " '/',\n",
       " 'ML',\n",
       " '.']"
      ]
     },
     "execution_count": 38,
     "metadata": {},
     "output_type": "execute_result"
    }
   ],
   "source": [
    "wordpunct_tokenize(corpus)  ## punctuations"
   ]
  },
  {
   "cell_type": "code",
   "execution_count": 39,
   "id": "c2489534",
   "metadata": {},
   "outputs": [],
   "source": [
    "from nltk.tokenize import TreebankWordTokenizer"
   ]
  },
  {
   "cell_type": "code",
   "execution_count": 40,
   "id": "e119201a",
   "metadata": {},
   "outputs": [],
   "source": [
    "tokenizer = TreebankWordTokenizer()"
   ]
  },
  {
   "cell_type": "code",
   "execution_count": null,
   "id": "bae6d431",
   "metadata": {},
   "outputs": [
    {
     "data": {
      "text/plain": [
       "['My',\n",
       " 'name',\n",
       " 'is',\n",
       " 'Aviral',\n",
       " 'Mittal',\n",
       " 'and',\n",
       " 'learning',\n",
       " 'ML',\n",
       " ',',\n",
       " 'DL',\n",
       " 'and',\n",
       " 'NLP.',\n",
       " 'I',\n",
       " 'am',\n",
       " 'a',\n",
       " 'student',\n",
       " '!',\n",
       " 'and',\n",
       " 'want',\n",
       " 'to',\n",
       " 'do',\n",
       " 'great',\n",
       " 'in',\n",
       " 'AI/ML',\n",
       " '.']"
      ]
     },
     "execution_count": 41,
     "metadata": {},
     "output_type": "execute_result"
    }
   ],
   "source": [
    "tokenizer.tokenize(corpus) # for full stop"
   ]
  },
  {
   "cell_type": "code",
   "execution_count": null,
   "id": "828def02",
   "metadata": {},
   "outputs": [],
   "source": []
  }
 ],
 "metadata": {
  "kernelspec": {
   "display_name": "base",
   "language": "python",
   "name": "python3"
  },
  "language_info": {
   "codemirror_mode": {
    "name": "ipython",
    "version": 3
   },
   "file_extension": ".py",
   "mimetype": "text/x-python",
   "name": "python",
   "nbconvert_exporter": "python",
   "pygments_lexer": "ipython3",
   "version": "3.12.4"
  }
 },
 "nbformat": 4,
 "nbformat_minor": 5
}
